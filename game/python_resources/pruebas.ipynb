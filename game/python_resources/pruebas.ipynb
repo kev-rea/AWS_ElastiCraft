{
 "cells": [
  {
   "cell_type": "code",
   "execution_count": 21,
   "metadata": {},
   "outputs": [
    {
     "name": "stdout",
     "output_type": "stream",
     "text": [
      "What is the name of the cloud-based storage service provided by Google?\n",
      "['What is the name of the cloud-based storage service provided by Google?', 'A) OneDrive', 'B) iCloud', 'C) Google Drive,', 'C)']\n"
     ]
    }
   ],
   "source": [
    "from textblob import TextBlob\n",
    "\n",
    "response_text = \"Question: What is the name of the cloud-based storage service provided by Google? A) OneDrive, B) iCloud, C) Google Drive, Correct_Answer: C)\"\n",
    "# Crear un objeto TextBlob\n",
    "blob = TextBlob(response_text)\n",
    "# Buscar la posición de la pregunta\n",
    "question_start = response_text.find(\"Question: \") + len(\"Question: \")\n",
    "question_end = response_text.find(\"?\", question_start) + 1\n",
    "question = response_text[question_start:question_end].strip()\n",
    "print(question)\n",
    "question_list=[question] if len(question)>5 else []\n",
    "# Buscar las opciones\n",
    "options_start = response_text.find(\"A)\") \n",
    "options_end = response_text.find(\"Correct_Answer:\")\n",
    "options = response_text[options_start:options_end].strip().split(\", \")\n",
    "# Extraer la respuesta correcta\n",
    "correct_answer_start = response_text.find(\"Correct_Answer:\") + len(\"Correct_Answer: \")\n",
    "correct_answer = response_text[correct_answer_start:].strip()\n",
    "correct_answer_list=[correct_answer]\n",
    "# Crear una lista con los resultados\n",
    "result = question_list+options+correct_answer_list\n",
    "print(result)"
   ]
  },
  {
   "cell_type": "code",
   "execution_count": 38,
   "metadata": {},
   "outputs": [
    {
     "name": "stdout",
     "output_type": "stream",
     "text": [
      "Question: What is the full form of AWS:A) Amazon Web Services, B) Amazon Web Store, C) Amazon Web System    Correct_Answer: A\n",
      "['What is the full form of AWS:', 'A) Amazon Web Services', ' B) Amazon Web Store', ' C) Amazon Web System', 'A']\n",
      "5\n",
      "----------------------------------------------------------------\n",
      " C) Amazon Web System\n"
     ]
    }
   ],
   "source": [
    "response= \"Question: Which of the following is not an AWS region?,A) US-East-1,B) US-West-2,C) London,Correct_Answer: C\"\n",
    "response=\"Question: What is the full form of AWS:A) Amazon Web Services, B) Amazon Web Store, C) Amazon Web System    Correct_Answer: A\"\n",
    "#response=\"A solutions architect is responsible for: A) Amazon Web Services, B) Apple Web Services, C) Alibaba Web Services, Correct_Answer: A\"\n",
    "print(response)\n",
    "text_response = response\n",
    "# Extraer la pregunta directamente\n",
    "question_start = text_response.find(\"ion:\")+4 if \"Question:\" in response else 0\n",
    "question_end = text_response.find(\"?\") + 1 if \"?\" in response else text_response.find(\"A)\")\n",
    "question = text_response[question_start:question_end].strip() \n",
    "#i want to delate \",\" at the end of the sentence if there is in question\n",
    "question = question[:-1] if question.endswith(\",\") else question\n",
    "\n",
    "# Extraer las opciones\n",
    "options_start = text_response.find(\"A)\") \n",
    "options_end = text_response.find(\"Correct_Answer:\")\n",
    "options = text_response[options_start:options_end].strip()\n",
    "options=options[:-1].split(\",\") if options.endswith(\",\") else options.split(\",\")\n",
    "# Extraer la respuesta correcta\n",
    "correct_answer_start = text_response.find(\"Correct_Answer:\") + len(\"Correct_Answer:\")\n",
    "correct_answer = text_response[correct_answer_start:].strip()\n",
    "# Crear y retornar la lista con los resultados\n",
    "list_result=[question] + options + [correct_answer]\n",
    "print (list_result)\n",
    "print(len(list_result))\n",
    "print(\"----------------------------------------------------------------\")\n",
    "print(list_result[3])"
   ]
  },
  {
   "cell_type": "code",
   "execution_count": 91,
   "metadata": {},
   "outputs": [
    {
     "name": "stdout",
     "output_type": "stream",
     "text": [
      "10\n"
     ]
    }
   ],
   "source": [
    "print(len(\"Question: \"))"
   ]
  },
  {
   "cell_type": "code",
   "execution_count": 152,
   "metadata": {},
   "outputs": [
    {
     "name": "stdout",
     "output_type": "stream",
     "text": [
      "Question:     What is the full form of AWS?, A) Amazon Web Services, B) Amazon Web Store, C) Amazon Web System, Correct_Answer: A\n",
      "What is the full form of A\n",
      "9\n",
      "9\n"
     ]
    }
   ],
   "source": [
    "response=\"Question:What is the full form of AWS?, A) Amazon Web Services, B) Amazon Web Store, C) Amazon Web System, Correct_Answer: A\"\n",
    "#response=\"AWS is an abbreviation for which compan, A) Amazon Web Services, B) Apple Web Services, C) Alibaba Web Services, Correct_Answer: A\"\n",
    "print(response.strip())\n",
    "text_response = response\n",
    "\n",
    "question_start = text_response.find(\"ion:\")+4 if \"Question:\" in response else 0\n",
    "# Extraer la pregunta directamente\n",
    "question=text_response[question_start:40].strip()\n",
    "print(question)\n",
    "print(len(\"Question:\"))\n",
    "print(question_start)"
   ]
  },
  {
   "cell_type": "code",
   "execution_count": null,
   "metadata": {},
   "outputs": [],
   "source": []
  }
 ],
 "metadata": {
  "kernelspec": {
   "display_name": "3.10.6",
   "language": "python",
   "name": "python3"
  },
  "language_info": {
   "codemirror_mode": {
    "name": "ipython",
    "version": 3
   },
   "file_extension": ".py",
   "mimetype": "text/x-python",
   "name": "python",
   "nbconvert_exporter": "python",
   "pygments_lexer": "ipython3",
   "version": "3.10.6"
  }
 },
 "nbformat": 4,
 "nbformat_minor": 2
}
