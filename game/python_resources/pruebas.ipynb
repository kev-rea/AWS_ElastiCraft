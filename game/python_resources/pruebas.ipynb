{
 "cells": [
  {
   "cell_type": "code",
   "execution_count": 21,
   "metadata": {},
   "outputs": [
    {
     "name": "stdout",
     "output_type": "stream",
     "text": [
      "What is the name of the cloud-based storage service provided by Google?\n",
      "['What is the name of the cloud-based storage service provided by Google?', 'A) OneDrive', 'B) iCloud', 'C) Google Drive,', 'C)']\n"
     ]
    }
   ],
   "source": [
    "from textblob import TextBlob\n",
    "\n",
    "response_text = \"Question: What is the name of the cloud-based storage service provided by Google? A) OneDrive, B) iCloud, C) Google Drive, Correct_Answer: C)\"\n",
    "# Crear un objeto TextBlob\n",
    "blob = TextBlob(response_text)\n",
    "# Buscar la posición de la pregunta\n",
    "question_start = response_text.find(\"Question: \") + len(\"Question: \")\n",
    "question_end = response_text.find(\"?\", question_start) + 1\n",
    "question = response_text[question_start:question_end].strip()\n",
    "print(question)\n",
    "question_list=[question] if len(question)>5 else []\n",
    "# Buscar las opciones\n",
    "options_start = response_text.find(\"A)\") \n",
    "options_end = response_text.find(\"Correct_Answer:\")\n",
    "options = response_text[options_start:options_end].strip().split(\", \")\n",
    "# Extraer la respuesta correcta\n",
    "correct_answer_start = response_text.find(\"Correct_Answer:\") + len(\"Correct_Answer: \")\n",
    "correct_answer = response_text[correct_answer_start:].strip()\n",
    "correct_answer_list=[correct_answer]\n",
    "# Crear una lista con los resultados\n",
    "result = question_list+options+correct_answer_list\n",
    "print(result)"
   ]
  },
  {
   "cell_type": "code",
   "execution_count": null,
   "metadata": {},
   "outputs": [],
   "source": []
  }
 ],
 "metadata": {
  "kernelspec": {
   "display_name": "3.10.6",
   "language": "python",
   "name": "python3"
  },
  "language_info": {
   "codemirror_mode": {
    "name": "ipython",
    "version": 3
   },
   "file_extension": ".py",
   "mimetype": "text/x-python",
   "name": "python",
   "nbconvert_exporter": "python",
   "pygments_lexer": "ipython3",
   "version": "3.10.6"
  }
 },
 "nbformat": 4,
 "nbformat_minor": 2
}
